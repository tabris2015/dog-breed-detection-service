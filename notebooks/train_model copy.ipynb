{
 "metadata": {
  "language_info": {
   "codemirror_mode": {
    "name": "ipython",
    "version": 3
   },
   "file_extension": ".py",
   "mimetype": "text/x-python",
   "name": "python",
   "nbconvert_exporter": "python",
   "pygments_lexer": "ipython3",
   "version": "3.6.9-final"
  },
  "orig_nbformat": 2,
  "kernelspec": {
   "name": "Python 3.6.9 64-bit ('env')",
   "display_name": "Python 3.6.9 64-bit ('env')",
   "metadata": {
    "interpreter": {
     "hash": "58cf0f674770da06bd5af31947879be539d08eeb1a5c9d525b7bc9eb1fdbae04"
    }
   }
  }
 },
 "nbformat": 4,
 "nbformat_minor": 2,
 "cells": [
  {
   "cell_type": "code",
   "execution_count": 1,
   "metadata": {},
   "outputs": [],
   "source": [
    "import numpy as np\n",
    "import tensorflow as tf\n",
    "from tensorflow import keras\n",
    "from tensorflow.keras import layers"
   ]
  },
  {
   "source": [
    "# Importar dataset"
   ],
   "cell_type": "markdown",
   "metadata": {}
  },
  {
   "cell_type": "code",
   "execution_count": 2,
   "metadata": {},
   "outputs": [
    {
     "output_type": "stream",
     "name": "stdout",
     "text": [
      "Found 8745 images belonging to 120 classes.\n",
      "Found 1477 images belonging to 120 classes.\n"
     ]
    }
   ],
   "source": [
    "dataset_path = '../data/dogs'\n",
    "im_size = (150, 150)\n",
    "batch_size = 32\n",
    "n_labels = 120\n",
    "\n",
    "im_generator = tf.keras.preprocessing.image.ImageDataGenerator(\n",
    "    rescale=1/255, \n",
    "    rotation_range=20,\n",
    "    shear_range=0.2,\n",
    "    zoom_range=0.2,\n",
    "    horizontal_flip=True,\n",
    "    validation_split=0.15\n",
    "    )\n",
    "\n",
    "train_generator = im_generator.flow_from_directory(\n",
    "    dataset_path,\n",
    "    target_size=im_size,\n",
    "    batch_size=batch_size,\n",
    "    class_mode='categorical',\n",
    "    subset='training',\n",
    "    seed=1425\n",
    ")\n",
    "\n",
    "val_generator = im_generator.flow_from_directory(\n",
    "    dataset_path,\n",
    "    target_size=im_size,\n",
    "    batch_size=batch_size,\n",
    "    class_mode='categorical',\n",
    "    subset='validation',\n",
    "    seed=1425\n",
    ")\n"
   ]
  },
  {
   "source": [
    "## Visualizar ejemplos"
   ],
   "cell_type": "markdown",
   "metadata": {}
  },
  {
   "cell_type": "code",
   "execution_count": null,
   "metadata": {},
   "outputs": [],
   "source": [
    "%matplotlib inline\n",
    "\n",
    "import matplotlib.pyplot as plt\n",
    "import matplotlib.image as mpimg\n",
    "\n",
    "test_batches = tf.keras.preprocessing.image.ImageDataGenerator(rescale=1/255).flow_from_directory(dataset_path, batch_size=10,target_size=im_size)\n",
    "classes = {value: key for key, value in test_batches.class_indices.items()}\n",
    "# print(classes)\n",
    "x_batch, y_batch = next(test_batches)\n",
    "for i in range (5):\n",
    "    image = x_batch[i]\n",
    "    plt.imshow(image)\n",
    "    plt.show()\n",
    "    print(classes[np.argmax(y_batch[i])])"
   ]
  },
  {
   "source": [
    "## Inception\n"
   ],
   "cell_type": "markdown",
   "metadata": {}
  },
  {
   "cell_type": "code",
   "execution_count": null,
   "metadata": {},
   "outputs": [],
   "source": [
    "\n",
    "!wget --no-check-certificate \\\n",
    "    https://storage.googleapis.com/mledu-datasets/inception_v3_weights_tf_dim_ordering_tf_kernels_notop.h5 \\\n",
    "    -O /tmp/inception_v3_weights_tf_dim_ordering_tf_kernels_notop.h5\n",
    "  \n"
   ]
  },
  {
   "cell_type": "code",
   "execution_count": 3,
   "metadata": {
    "tags": []
   },
   "outputs": [],
   "source": [
    "import os\n",
    "\n",
    "from tensorflow.keras import layers\n",
    "from tensorflow.keras import Model\n",
    "from tensorflow.keras.applications.inception_v3 import InceptionV3\n",
    "\n",
    "local_weights_file = '/tmp/inception_v3_weights_tf_dim_ordering_tf_kernels_notop.h5'\n",
    "\n",
    "pre_trained_model = InceptionV3(input_shape = (150, 150, 3), \n",
    "                                include_top = False, \n",
    "                                weights = None)\n",
    "\n",
    "pre_trained_model.load_weights(local_weights_file)\n",
    "\n",
    "for layer in pre_trained_model.layers:\n",
    "  layer.trainable = False\n",
    "  \n",
    "# pre_trained_model.summary()\n",
    "\n"
   ]
  },
  {
   "cell_type": "code",
   "execution_count": 4,
   "metadata": {},
   "outputs": [
    {
     "output_type": "stream",
     "name": "stdout",
     "text": [
      "last layer output shape:  (None, 7, 7, 768)\n"
     ]
    }
   ],
   "source": [
    "last_layer = pre_trained_model.get_layer('mixed7')\n",
    "print('last layer output shape: ', last_layer.output_shape)\n",
    "last_output = last_layer.output"
   ]
  },
  {
   "cell_type": "code",
   "execution_count": 5,
   "metadata": {},
   "outputs": [],
   "source": [
    "from tensorflow.keras.optimizers import RMSprop\n",
    "\n",
    "# Flatten the output layer to 1 dimension\n",
    "x = layers.Flatten()(last_output)\n",
    "# Add a fully connected layer with 1,024 hidden units and ReLU activation\n",
    "x = layers.Dense(1024, activation='relu')(x)\n",
    "# Add a dropout rate of 0.2\n",
    "x = layers.Dropout(0.2)(x)                  \n",
    "# Add a final sigmoid layer for classification\n",
    "x = layers.Dense  (n_labels, activation='softmax')(x)           \n",
    "\n",
    "model = Model( pre_trained_model.input, x) \n",
    "\n",
    "model.compile(optimizer = RMSprop(lr=0.0001), \n",
    "              loss = 'categorical_crossentropy', \n",
    "              metrics = ['accuracy'])"
   ]
  },
  {
   "cell_type": "code",
   "execution_count": null,
   "metadata": {},
   "outputs": [],
   "source": [
    "def make_model(input_shape, num_classes):\n",
    "    inputs = keras.Input(shape=input_shape)\n",
    "    # Entry block\n",
    "    x = layers.experimental.preprocessing.Rescaling(1.0 / 255)(inputs)\n",
    "    x = layers.Conv2D(32, 3, strides=2, padding=\"same\")(x)\n",
    "    x = layers.BatchNormalization()(x)\n",
    "    x = layers.Activation(\"relu\")(x)\n",
    "\n",
    "    x = layers.Conv2D(64, 3, padding=\"same\")(x)\n",
    "    x = layers.BatchNormalization()(x)\n",
    "    x = layers.Activation(\"relu\")(x)\n",
    "\n",
    "    previous_block_activation = x  # Set aside residual\n",
    "\n",
    "    for size in [128, 256, 512, 728]:\n",
    "        x = layers.Activation(\"relu\")(x)\n",
    "        x = layers.SeparableConv2D(size, 3, padding=\"same\")(x)\n",
    "        x = layers.BatchNormalization()(x)\n",
    "\n",
    "        x = layers.Activation(\"relu\")(x)\n",
    "        x = layers.SeparableConv2D(size, 3, padding=\"same\")(x)\n",
    "        x = layers.BatchNormalization()(x)\n",
    "\n",
    "        x = layers.MaxPooling2D(3, strides=2, padding=\"same\")(x)\n",
    "\n",
    "        # Project residual\n",
    "        residual = layers.Conv2D(size, 1, strides=2, padding=\"same\")(\n",
    "            previous_block_activation\n",
    "        )\n",
    "        x = layers.add([x, residual])  # Add back residual\n",
    "        previous_block_activation = x  # Set aside next residual\n",
    "\n",
    "    x = layers.SeparableConv2D(1024, 3, padding=\"same\")(x)\n",
    "    x = layers.BatchNormalization()(x)\n",
    "    x = layers.Activation(\"relu\")(x)\n",
    "\n",
    "    x = layers.GlobalAveragePooling2D()(x)\n",
    "    if num_classes == 2:\n",
    "        activation = \"sigmoid\"\n",
    "        units = 1\n",
    "    else:\n",
    "        activation = \"softmax\"\n",
    "        units = num_classes\n",
    "\n",
    "    x = layers.Dropout(0.5)(x)\n",
    "    outputs = layers.Dense(units, activation=activation)(x)\n",
    "    return keras.Model(inputs, outputs)\n",
    "\n",
    "\n",
    "model = make_model(input_shape=im_size + (3,), num_classes=120)\n",
    "# keras.utils.plot_model(model, show_shapes=True)"
   ]
  },
  {
   "cell_type": "code",
   "execution_count": 6,
   "metadata": {
    "tags": [
     "outputPrepend"
    ]
   },
   "outputs": [
    {
     "output_type": "stream",
     "name": "stdout",
     "text": [
      "              \n__________________________________________________________________________________________________\nactivation_45 (Activation)      (None, 7, 7, 160)    0           batch_normalization_45[0][0]     \n__________________________________________________________________________________________________\nconv2d_41 (Conv2D)              (None, 7, 7, 160)    122880      mixed4[0][0]                     \n__________________________________________________________________________________________________\nconv2d_46 (Conv2D)              (None, 7, 7, 160)    179200      activation_45[0][0]              \n__________________________________________________________________________________________________\nbatch_normalization_41 (BatchNo (None, 7, 7, 160)    480         conv2d_41[0][0]                  \n__________________________________________________________________________________________________\nbatch_normalization_46 (BatchNo (None, 7, 7, 160)    480         conv2d_46[0][0]                  \n__________________________________________________________________________________________________\nactivation_41 (Activation)      (None, 7, 7, 160)    0           batch_normalization_41[0][0]     \n__________________________________________________________________________________________________\nactivation_46 (Activation)      (None, 7, 7, 160)    0           batch_normalization_46[0][0]     \n__________________________________________________________________________________________________\nconv2d_42 (Conv2D)              (None, 7, 7, 160)    179200      activation_41[0][0]              \n__________________________________________________________________________________________________\nconv2d_47 (Conv2D)              (None, 7, 7, 160)    179200      activation_46[0][0]              \n__________________________________________________________________________________________________\nbatch_normalization_42 (BatchNo (None, 7, 7, 160)    480         conv2d_42[0][0]                  \n__________________________________________________________________________________________________\nbatch_normalization_47 (BatchNo (None, 7, 7, 160)    480         conv2d_47[0][0]                  \n__________________________________________________________________________________________________\nactivation_42 (Activation)      (None, 7, 7, 160)    0           batch_normalization_42[0][0]     \n__________________________________________________________________________________________________\nactivation_47 (Activation)      (None, 7, 7, 160)    0           batch_normalization_47[0][0]     \n__________________________________________________________________________________________________\naverage_pooling2d_4 (AveragePoo (None, 7, 7, 768)    0           mixed4[0][0]                     \n__________________________________________________________________________________________________\nconv2d_40 (Conv2D)              (None, 7, 7, 192)    147456      mixed4[0][0]                     \n__________________________________________________________________________________________________\nconv2d_43 (Conv2D)              (None, 7, 7, 192)    215040      activation_42[0][0]              \n__________________________________________________________________________________________________\nconv2d_48 (Conv2D)              (None, 7, 7, 192)    215040      activation_47[0][0]              \n__________________________________________________________________________________________________\nconv2d_49 (Conv2D)              (None, 7, 7, 192)    147456      average_pooling2d_4[0][0]        \n__________________________________________________________________________________________________\nbatch_normalization_40 (BatchNo (None, 7, 7, 192)    576         conv2d_40[0][0]                  \n__________________________________________________________________________________________________\nbatch_normalization_43 (BatchNo (None, 7, 7, 192)    576         conv2d_43[0][0]                  \n__________________________________________________________________________________________________\nbatch_normalization_48 (BatchNo (None, 7, 7, 192)    576         conv2d_48[0][0]                  \n__________________________________________________________________________________________________\nbatch_normalization_49 (BatchNo (None, 7, 7, 192)    576         conv2d_49[0][0]                  \n__________________________________________________________________________________________________\nactivation_40 (Activation)      (None, 7, 7, 192)    0           batch_normalization_40[0][0]     \n__________________________________________________________________________________________________\nactivation_43 (Activation)      (None, 7, 7, 192)    0           batch_normalization_43[0][0]     \n__________________________________________________________________________________________________\nactivation_48 (Activation)      (None, 7, 7, 192)    0           batch_normalization_48[0][0]     \n__________________________________________________________________________________________________\nactivation_49 (Activation)      (None, 7, 7, 192)    0           batch_normalization_49[0][0]     \n__________________________________________________________________________________________________\nmixed5 (Concatenate)            (None, 7, 7, 768)    0           activation_40[0][0]              \n                                                                 activation_43[0][0]              \n                                                                 activation_48[0][0]              \n                                                                 activation_49[0][0]              \n__________________________________________________________________________________________________\nconv2d_54 (Conv2D)              (None, 7, 7, 160)    122880      mixed5[0][0]                     \n__________________________________________________________________________________________________\nbatch_normalization_54 (BatchNo (None, 7, 7, 160)    480         conv2d_54[0][0]                  \n__________________________________________________________________________________________________\nactivation_54 (Activation)      (None, 7, 7, 160)    0           batch_normalization_54[0][0]     \n__________________________________________________________________________________________________\nconv2d_55 (Conv2D)              (None, 7, 7, 160)    179200      activation_54[0][0]              \n__________________________________________________________________________________________________\nbatch_normalization_55 (BatchNo (None, 7, 7, 160)    480         conv2d_55[0][0]                  \n__________________________________________________________________________________________________\nactivation_55 (Activation)      (None, 7, 7, 160)    0           batch_normalization_55[0][0]     \n__________________________________________________________________________________________________\nconv2d_51 (Conv2D)              (None, 7, 7, 160)    122880      mixed5[0][0]                     \n__________________________________________________________________________________________________\nconv2d_56 (Conv2D)              (None, 7, 7, 160)    179200      activation_55[0][0]              \n__________________________________________________________________________________________________\nbatch_normalization_51 (BatchNo (None, 7, 7, 160)    480         conv2d_51[0][0]                  \n__________________________________________________________________________________________________\nbatch_normalization_56 (BatchNo (None, 7, 7, 160)    480         conv2d_56[0][0]                  \n__________________________________________________________________________________________________\nactivation_51 (Activation)      (None, 7, 7, 160)    0           batch_normalization_51[0][0]     \n__________________________________________________________________________________________________\nactivation_56 (Activation)      (None, 7, 7, 160)    0           batch_normalization_56[0][0]     \n__________________________________________________________________________________________________\nconv2d_52 (Conv2D)              (None, 7, 7, 160)    179200      activation_51[0][0]              \n__________________________________________________________________________________________________\nconv2d_57 (Conv2D)              (None, 7, 7, 160)    179200      activation_56[0][0]              \n__________________________________________________________________________________________________\nbatch_normalization_52 (BatchNo (None, 7, 7, 160)    480         conv2d_52[0][0]                  \n__________________________________________________________________________________________________\nbatch_normalization_57 (BatchNo (None, 7, 7, 160)    480         conv2d_57[0][0]                  \n__________________________________________________________________________________________________\nactivation_52 (Activation)      (None, 7, 7, 160)    0           batch_normalization_52[0][0]     \n__________________________________________________________________________________________________\nactivation_57 (Activation)      (None, 7, 7, 160)    0           batch_normalization_57[0][0]     \n__________________________________________________________________________________________________\naverage_pooling2d_5 (AveragePoo (None, 7, 7, 768)    0           mixed5[0][0]                     \n__________________________________________________________________________________________________\nconv2d_50 (Conv2D)              (None, 7, 7, 192)    147456      mixed5[0][0]                     \n__________________________________________________________________________________________________\nconv2d_53 (Conv2D)              (None, 7, 7, 192)    215040      activation_52[0][0]              \n__________________________________________________________________________________________________\nconv2d_58 (Conv2D)              (None, 7, 7, 192)    215040      activation_57[0][0]              \n__________________________________________________________________________________________________\nconv2d_59 (Conv2D)              (None, 7, 7, 192)    147456      average_pooling2d_5[0][0]        \n__________________________________________________________________________________________________\nbatch_normalization_50 (BatchNo (None, 7, 7, 192)    576         conv2d_50[0][0]                  \n__________________________________________________________________________________________________\nbatch_normalization_53 (BatchNo (None, 7, 7, 192)    576         conv2d_53[0][0]                  \n__________________________________________________________________________________________________\nbatch_normalization_58 (BatchNo (None, 7, 7, 192)    576         conv2d_58[0][0]                  \n__________________________________________________________________________________________________\nbatch_normalization_59 (BatchNo (None, 7, 7, 192)    576         conv2d_59[0][0]                  \n__________________________________________________________________________________________________\nactivation_50 (Activation)      (None, 7, 7, 192)    0           batch_normalization_50[0][0]     \n__________________________________________________________________________________________________\nactivation_53 (Activation)      (None, 7, 7, 192)    0           batch_normalization_53[0][0]     \n__________________________________________________________________________________________________\nactivation_58 (Activation)      (None, 7, 7, 192)    0           batch_normalization_58[0][0]     \n__________________________________________________________________________________________________\nactivation_59 (Activation)      (None, 7, 7, 192)    0           batch_normalization_59[0][0]     \n__________________________________________________________________________________________________\nmixed6 (Concatenate)            (None, 7, 7, 768)    0           activation_50[0][0]              \n                                                                 activation_53[0][0]              \n                                                                 activation_58[0][0]              \n                                                                 activation_59[0][0]              \n__________________________________________________________________________________________________\nconv2d_64 (Conv2D)              (None, 7, 7, 192)    147456      mixed6[0][0]                     \n__________________________________________________________________________________________________\nbatch_normalization_64 (BatchNo (None, 7, 7, 192)    576         conv2d_64[0][0]                  \n__________________________________________________________________________________________________\nactivation_64 (Activation)      (None, 7, 7, 192)    0           batch_normalization_64[0][0]     \n__________________________________________________________________________________________________\nconv2d_65 (Conv2D)              (None, 7, 7, 192)    258048      activation_64[0][0]              \n__________________________________________________________________________________________________\nbatch_normalization_65 (BatchNo (None, 7, 7, 192)    576         conv2d_65[0][0]                  \n__________________________________________________________________________________________________\nactivation_65 (Activation)      (None, 7, 7, 192)    0           batch_normalization_65[0][0]     \n__________________________________________________________________________________________________\nconv2d_61 (Conv2D)              (None, 7, 7, 192)    147456      mixed6[0][0]                     \n__________________________________________________________________________________________________\nconv2d_66 (Conv2D)              (None, 7, 7, 192)    258048      activation_65[0][0]              \n__________________________________________________________________________________________________\nbatch_normalization_61 (BatchNo (None, 7, 7, 192)    576         conv2d_61[0][0]                  \n__________________________________________________________________________________________________\nbatch_normalization_66 (BatchNo (None, 7, 7, 192)    576         conv2d_66[0][0]                  \n__________________________________________________________________________________________________\nactivation_61 (Activation)      (None, 7, 7, 192)    0           batch_normalization_61[0][0]     \n__________________________________________________________________________________________________\nactivation_66 (Activation)      (None, 7, 7, 192)    0           batch_normalization_66[0][0]     \n__________________________________________________________________________________________________\nconv2d_62 (Conv2D)              (None, 7, 7, 192)    258048      activation_61[0][0]              \n__________________________________________________________________________________________________\nconv2d_67 (Conv2D)              (None, 7, 7, 192)    258048      activation_66[0][0]              \n__________________________________________________________________________________________________\nbatch_normalization_62 (BatchNo (None, 7, 7, 192)    576         conv2d_62[0][0]                  \n__________________________________________________________________________________________________\nbatch_normalization_67 (BatchNo (None, 7, 7, 192)    576         conv2d_67[0][0]                  \n__________________________________________________________________________________________________\nactivation_62 (Activation)      (None, 7, 7, 192)    0           batch_normalization_62[0][0]     \n__________________________________________________________________________________________________\nactivation_67 (Activation)      (None, 7, 7, 192)    0           batch_normalization_67[0][0]     \n__________________________________________________________________________________________________\naverage_pooling2d_6 (AveragePoo (None, 7, 7, 768)    0           mixed6[0][0]                     \n__________________________________________________________________________________________________\nconv2d_60 (Conv2D)              (None, 7, 7, 192)    147456      mixed6[0][0]                     \n__________________________________________________________________________________________________\nconv2d_63 (Conv2D)              (None, 7, 7, 192)    258048      activation_62[0][0]              \n__________________________________________________________________________________________________\nconv2d_68 (Conv2D)              (None, 7, 7, 192)    258048      activation_67[0][0]              \n__________________________________________________________________________________________________\nconv2d_69 (Conv2D)              (None, 7, 7, 192)    147456      average_pooling2d_6[0][0]        \n__________________________________________________________________________________________________\nbatch_normalization_60 (BatchNo (None, 7, 7, 192)    576         conv2d_60[0][0]                  \n__________________________________________________________________________________________________\nbatch_normalization_63 (BatchNo (None, 7, 7, 192)    576         conv2d_63[0][0]                  \n__________________________________________________________________________________________________\nbatch_normalization_68 (BatchNo (None, 7, 7, 192)    576         conv2d_68[0][0]                  \n__________________________________________________________________________________________________\nbatch_normalization_69 (BatchNo (None, 7, 7, 192)    576         conv2d_69[0][0]                  \n__________________________________________________________________________________________________\nactivation_60 (Activation)      (None, 7, 7, 192)    0           batch_normalization_60[0][0]     \n__________________________________________________________________________________________________\nactivation_63 (Activation)      (None, 7, 7, 192)    0           batch_normalization_63[0][0]     \n__________________________________________________________________________________________________\nactivation_68 (Activation)      (None, 7, 7, 192)    0           batch_normalization_68[0][0]     \n__________________________________________________________________________________________________\nactivation_69 (Activation)      (None, 7, 7, 192)    0           batch_normalization_69[0][0]     \n__________________________________________________________________________________________________\nmixed7 (Concatenate)            (None, 7, 7, 768)    0           activation_60[0][0]              \n                                                                 activation_63[0][0]              \n                                                                 activation_68[0][0]              \n                                                                 activation_69[0][0]              \n__________________________________________________________________________________________________\nflatten (Flatten)               (None, 37632)        0           mixed7[0][0]                     \n__________________________________________________________________________________________________\ndense (Dense)                   (None, 1024)         38536192    flatten[0][0]                    \n__________________________________________________________________________________________________\ndropout (Dropout)               (None, 1024)         0           dense[0][0]                      \n__________________________________________________________________________________________________\ndense_1 (Dense)                 (None, 120)          123000      dropout[0][0]                    \n==================================================================================================\nTotal params: 47,634,456\nTrainable params: 38,659,192\nNon-trainable params: 8,975,264\n__________________________________________________________________________________________________\n"
     ]
    }
   ],
   "source": [
    "model.summary()"
   ]
  },
  {
   "source": [
    "## Entrenamiento\n"
   ],
   "cell_type": "markdown",
   "metadata": {}
  },
  {
   "cell_type": "code",
   "execution_count": null,
   "metadata": {},
   "outputs": [],
   "source": [
    "callbacks = [\n",
    "     keras.callbacks.ModelCheckpoint(\"save_at_{epoch}.h5\", monitor='val_loss', save_best_only=True),\n",
    "]\n",
    "model.compile(\n",
    "    optimizer=keras.optimizers.Adam(1e-3),\n",
    "    loss=\"categorical_crossentropy\",\n",
    "    metrics=[\"accuracy\"],\n",
    ")\n"
   ]
  },
  {
   "cell_type": "code",
   "execution_count": 7,
   "metadata": {},
   "outputs": [
    {
     "output_type": "stream",
     "name": "stdout",
     "text": [
      "Epoch 1/50\n",
      "274/274 [==============================] - 304s 1s/step - loss: 3.5653 - accuracy: 0.1961 - val_loss: 2.5909 - val_accuracy: 0.3446\n",
      "Epoch 2/50\n",
      "274/274 [==============================] - 317s 1s/step - loss: 2.1512 - accuracy: 0.4493 - val_loss: 2.2742 - val_accuracy: 0.4022\n",
      "Epoch 3/50\n",
      "274/274 [==============================] - 320s 1s/step - loss: 1.5663 - accuracy: 0.5763 - val_loss: 2.2194 - val_accuracy: 0.4211\n",
      "Epoch 4/50\n",
      "274/274 [==============================] - 307s 1s/step - loss: 1.2384 - accuracy: 0.6532 - val_loss: 2.0639 - val_accuracy: 0.4496\n",
      "Epoch 5/50\n",
      "274/274 [==============================] - 298s 1s/step - loss: 1.0073 - accuracy: 0.7172 - val_loss: 2.1049 - val_accuracy: 0.4557\n",
      "Epoch 6/50\n",
      "274/274 [==============================] - 303s 1s/step - loss: 0.8063 - accuracy: 0.7691 - val_loss: 2.1648 - val_accuracy: 0.4658\n",
      "Epoch 7/50\n",
      "274/274 [==============================] - 299s 1s/step - loss: 0.6449 - accuracy: 0.8172 - val_loss: 2.1899 - val_accuracy: 0.4543\n",
      "Epoch 8/50\n",
      "  9/274 [..............................] - ETA: 3:38 - loss: 0.4903 - accuracy: 0.8438"
     ]
    },
    {
     "output_type": "error",
     "ename": "KeyboardInterrupt",
     "evalue": "",
     "traceback": [
      "\u001b[0;31m---------------------------------------------------------------------------\u001b[0m",
      "\u001b[0;31mKeyboardInterrupt\u001b[0m                         Traceback (most recent call last)",
      "\u001b[0;32m<ipython-input-7-b30ad30e310d>\u001b[0m in \u001b[0;36m<module>\u001b[0;34m\u001b[0m\n\u001b[1;32m      4\u001b[0m ]\n\u001b[1;32m      5\u001b[0m history = model.fit(\n\u001b[0;32m----> 6\u001b[0;31m     \u001b[0mtrain_generator\u001b[0m\u001b[0;34m,\u001b[0m \u001b[0mepochs\u001b[0m\u001b[0;34m=\u001b[0m\u001b[0mepochs\u001b[0m\u001b[0;34m,\u001b[0m \u001b[0mcallbacks\u001b[0m\u001b[0;34m=\u001b[0m\u001b[0mcallbacks\u001b[0m\u001b[0;34m,\u001b[0m \u001b[0mvalidation_data\u001b[0m\u001b[0;34m=\u001b[0m\u001b[0mval_generator\u001b[0m\u001b[0;34m,\u001b[0m\u001b[0;34m\u001b[0m\u001b[0;34m\u001b[0m\u001b[0m\n\u001b[0m\u001b[1;32m      7\u001b[0m )\n",
      "\u001b[0;32m~/projects/python/tf2/dog-breed-detection-service/env/lib/python3.6/site-packages/tensorflow/python/keras/engine/training.py\u001b[0m in \u001b[0;36m_method_wrapper\u001b[0;34m(self, *args, **kwargs)\u001b[0m\n\u001b[1;32m     64\u001b[0m   \u001b[0;32mdef\u001b[0m \u001b[0m_method_wrapper\u001b[0m\u001b[0;34m(\u001b[0m\u001b[0mself\u001b[0m\u001b[0;34m,\u001b[0m \u001b[0;34m*\u001b[0m\u001b[0margs\u001b[0m\u001b[0;34m,\u001b[0m \u001b[0;34m**\u001b[0m\u001b[0mkwargs\u001b[0m\u001b[0;34m)\u001b[0m\u001b[0;34m:\u001b[0m\u001b[0;34m\u001b[0m\u001b[0;34m\u001b[0m\u001b[0m\n\u001b[1;32m     65\u001b[0m     \u001b[0;32mif\u001b[0m \u001b[0;32mnot\u001b[0m \u001b[0mself\u001b[0m\u001b[0;34m.\u001b[0m\u001b[0m_in_multi_worker_mode\u001b[0m\u001b[0;34m(\u001b[0m\u001b[0;34m)\u001b[0m\u001b[0;34m:\u001b[0m  \u001b[0;31m# pylint: disable=protected-access\u001b[0m\u001b[0;34m\u001b[0m\u001b[0;34m\u001b[0m\u001b[0m\n\u001b[0;32m---> 66\u001b[0;31m       \u001b[0;32mreturn\u001b[0m \u001b[0mmethod\u001b[0m\u001b[0;34m(\u001b[0m\u001b[0mself\u001b[0m\u001b[0;34m,\u001b[0m \u001b[0;34m*\u001b[0m\u001b[0margs\u001b[0m\u001b[0;34m,\u001b[0m \u001b[0;34m**\u001b[0m\u001b[0mkwargs\u001b[0m\u001b[0;34m)\u001b[0m\u001b[0;34m\u001b[0m\u001b[0;34m\u001b[0m\u001b[0m\n\u001b[0m\u001b[1;32m     67\u001b[0m \u001b[0;34m\u001b[0m\u001b[0m\n\u001b[1;32m     68\u001b[0m     \u001b[0;31m# Running inside `run_distribute_coordinator` already.\u001b[0m\u001b[0;34m\u001b[0m\u001b[0;34m\u001b[0m\u001b[0;34m\u001b[0m\u001b[0m\n",
      "\u001b[0;32m~/projects/python/tf2/dog-breed-detection-service/env/lib/python3.6/site-packages/tensorflow/python/keras/engine/training.py\u001b[0m in \u001b[0;36mfit\u001b[0;34m(self, x, y, batch_size, epochs, verbose, callbacks, validation_split, validation_data, shuffle, class_weight, sample_weight, initial_epoch, steps_per_epoch, validation_steps, validation_batch_size, validation_freq, max_queue_size, workers, use_multiprocessing)\u001b[0m\n\u001b[1;32m    846\u001b[0m                 batch_size=batch_size):\n\u001b[1;32m    847\u001b[0m               \u001b[0mcallbacks\u001b[0m\u001b[0;34m.\u001b[0m\u001b[0mon_train_batch_begin\u001b[0m\u001b[0;34m(\u001b[0m\u001b[0mstep\u001b[0m\u001b[0;34m)\u001b[0m\u001b[0;34m\u001b[0m\u001b[0;34m\u001b[0m\u001b[0m\n\u001b[0;32m--> 848\u001b[0;31m               \u001b[0mtmp_logs\u001b[0m \u001b[0;34m=\u001b[0m \u001b[0mtrain_function\u001b[0m\u001b[0;34m(\u001b[0m\u001b[0miterator\u001b[0m\u001b[0;34m)\u001b[0m\u001b[0;34m\u001b[0m\u001b[0;34m\u001b[0m\u001b[0m\n\u001b[0m\u001b[1;32m    849\u001b[0m               \u001b[0;31m# Catch OutOfRangeError for Datasets of unknown size.\u001b[0m\u001b[0;34m\u001b[0m\u001b[0;34m\u001b[0m\u001b[0;34m\u001b[0m\u001b[0m\n\u001b[1;32m    850\u001b[0m               \u001b[0;31m# This blocks until the batch has finished executing.\u001b[0m\u001b[0;34m\u001b[0m\u001b[0;34m\u001b[0m\u001b[0;34m\u001b[0m\u001b[0m\n",
      "\u001b[0;32m~/projects/python/tf2/dog-breed-detection-service/env/lib/python3.6/site-packages/tensorflow/python/eager/def_function.py\u001b[0m in \u001b[0;36m__call__\u001b[0;34m(self, *args, **kwds)\u001b[0m\n\u001b[1;32m    578\u001b[0m         \u001b[0mxla_context\u001b[0m\u001b[0;34m.\u001b[0m\u001b[0mExit\u001b[0m\u001b[0;34m(\u001b[0m\u001b[0;34m)\u001b[0m\u001b[0;34m\u001b[0m\u001b[0;34m\u001b[0m\u001b[0m\n\u001b[1;32m    579\u001b[0m     \u001b[0;32melse\u001b[0m\u001b[0;34m:\u001b[0m\u001b[0;34m\u001b[0m\u001b[0;34m\u001b[0m\u001b[0m\n\u001b[0;32m--> 580\u001b[0;31m       \u001b[0mresult\u001b[0m \u001b[0;34m=\u001b[0m \u001b[0mself\u001b[0m\u001b[0;34m.\u001b[0m\u001b[0m_call\u001b[0m\u001b[0;34m(\u001b[0m\u001b[0;34m*\u001b[0m\u001b[0margs\u001b[0m\u001b[0;34m,\u001b[0m \u001b[0;34m**\u001b[0m\u001b[0mkwds\u001b[0m\u001b[0;34m)\u001b[0m\u001b[0;34m\u001b[0m\u001b[0;34m\u001b[0m\u001b[0m\n\u001b[0m\u001b[1;32m    581\u001b[0m \u001b[0;34m\u001b[0m\u001b[0m\n\u001b[1;32m    582\u001b[0m     \u001b[0;32mif\u001b[0m \u001b[0mtracing_count\u001b[0m \u001b[0;34m==\u001b[0m \u001b[0mself\u001b[0m\u001b[0;34m.\u001b[0m\u001b[0m_get_tracing_count\u001b[0m\u001b[0;34m(\u001b[0m\u001b[0;34m)\u001b[0m\u001b[0;34m:\u001b[0m\u001b[0;34m\u001b[0m\u001b[0;34m\u001b[0m\u001b[0m\n",
      "\u001b[0;32m~/projects/python/tf2/dog-breed-detection-service/env/lib/python3.6/site-packages/tensorflow/python/eager/def_function.py\u001b[0m in \u001b[0;36m_call\u001b[0;34m(self, *args, **kwds)\u001b[0m\n\u001b[1;32m    609\u001b[0m       \u001b[0;31m# In this case we have created variables on the first call, so we run the\u001b[0m\u001b[0;34m\u001b[0m\u001b[0;34m\u001b[0m\u001b[0;34m\u001b[0m\u001b[0m\n\u001b[1;32m    610\u001b[0m       \u001b[0;31m# defunned version which is guaranteed to never create variables.\u001b[0m\u001b[0;34m\u001b[0m\u001b[0;34m\u001b[0m\u001b[0;34m\u001b[0m\u001b[0m\n\u001b[0;32m--> 611\u001b[0;31m       \u001b[0;32mreturn\u001b[0m \u001b[0mself\u001b[0m\u001b[0;34m.\u001b[0m\u001b[0m_stateless_fn\u001b[0m\u001b[0;34m(\u001b[0m\u001b[0;34m*\u001b[0m\u001b[0margs\u001b[0m\u001b[0;34m,\u001b[0m \u001b[0;34m**\u001b[0m\u001b[0mkwds\u001b[0m\u001b[0;34m)\u001b[0m  \u001b[0;31m# pylint: disable=not-callable\u001b[0m\u001b[0;34m\u001b[0m\u001b[0;34m\u001b[0m\u001b[0m\n\u001b[0m\u001b[1;32m    612\u001b[0m     \u001b[0;32melif\u001b[0m \u001b[0mself\u001b[0m\u001b[0;34m.\u001b[0m\u001b[0m_stateful_fn\u001b[0m \u001b[0;32mis\u001b[0m \u001b[0;32mnot\u001b[0m \u001b[0;32mNone\u001b[0m\u001b[0;34m:\u001b[0m\u001b[0;34m\u001b[0m\u001b[0;34m\u001b[0m\u001b[0m\n\u001b[1;32m    613\u001b[0m       \u001b[0;31m# Release the lock early so that multiple threads can perform the call\u001b[0m\u001b[0;34m\u001b[0m\u001b[0;34m\u001b[0m\u001b[0;34m\u001b[0m\u001b[0m\n",
      "\u001b[0;32m~/projects/python/tf2/dog-breed-detection-service/env/lib/python3.6/site-packages/tensorflow/python/eager/function.py\u001b[0m in \u001b[0;36m__call__\u001b[0;34m(self, *args, **kwargs)\u001b[0m\n\u001b[1;32m   2418\u001b[0m     \u001b[0;32mwith\u001b[0m \u001b[0mself\u001b[0m\u001b[0;34m.\u001b[0m\u001b[0m_lock\u001b[0m\u001b[0;34m:\u001b[0m\u001b[0;34m\u001b[0m\u001b[0;34m\u001b[0m\u001b[0m\n\u001b[1;32m   2419\u001b[0m       \u001b[0mgraph_function\u001b[0m\u001b[0;34m,\u001b[0m \u001b[0margs\u001b[0m\u001b[0;34m,\u001b[0m \u001b[0mkwargs\u001b[0m \u001b[0;34m=\u001b[0m \u001b[0mself\u001b[0m\u001b[0;34m.\u001b[0m\u001b[0m_maybe_define_function\u001b[0m\u001b[0;34m(\u001b[0m\u001b[0margs\u001b[0m\u001b[0;34m,\u001b[0m \u001b[0mkwargs\u001b[0m\u001b[0;34m)\u001b[0m\u001b[0;34m\u001b[0m\u001b[0;34m\u001b[0m\u001b[0m\n\u001b[0;32m-> 2420\u001b[0;31m     \u001b[0;32mreturn\u001b[0m \u001b[0mgraph_function\u001b[0m\u001b[0;34m.\u001b[0m\u001b[0m_filtered_call\u001b[0m\u001b[0;34m(\u001b[0m\u001b[0margs\u001b[0m\u001b[0;34m,\u001b[0m \u001b[0mkwargs\u001b[0m\u001b[0;34m)\u001b[0m  \u001b[0;31m# pylint: disable=protected-access\u001b[0m\u001b[0;34m\u001b[0m\u001b[0;34m\u001b[0m\u001b[0m\n\u001b[0m\u001b[1;32m   2421\u001b[0m \u001b[0;34m\u001b[0m\u001b[0m\n\u001b[1;32m   2422\u001b[0m   \u001b[0;34m@\u001b[0m\u001b[0mproperty\u001b[0m\u001b[0;34m\u001b[0m\u001b[0;34m\u001b[0m\u001b[0m\n",
      "\u001b[0;32m~/projects/python/tf2/dog-breed-detection-service/env/lib/python3.6/site-packages/tensorflow/python/eager/function.py\u001b[0m in \u001b[0;36m_filtered_call\u001b[0;34m(self, args, kwargs)\u001b[0m\n\u001b[1;32m   1663\u001b[0m          if isinstance(t, (ops.Tensor,\n\u001b[1;32m   1664\u001b[0m                            resource_variable_ops.BaseResourceVariable))),\n\u001b[0;32m-> 1665\u001b[0;31m         self.captured_inputs)\n\u001b[0m\u001b[1;32m   1666\u001b[0m \u001b[0;34m\u001b[0m\u001b[0m\n\u001b[1;32m   1667\u001b[0m   \u001b[0;32mdef\u001b[0m \u001b[0m_call_flat\u001b[0m\u001b[0;34m(\u001b[0m\u001b[0mself\u001b[0m\u001b[0;34m,\u001b[0m \u001b[0margs\u001b[0m\u001b[0;34m,\u001b[0m \u001b[0mcaptured_inputs\u001b[0m\u001b[0;34m,\u001b[0m \u001b[0mcancellation_manager\u001b[0m\u001b[0;34m=\u001b[0m\u001b[0;32mNone\u001b[0m\u001b[0;34m)\u001b[0m\u001b[0;34m:\u001b[0m\u001b[0;34m\u001b[0m\u001b[0;34m\u001b[0m\u001b[0m\n",
      "\u001b[0;32m~/projects/python/tf2/dog-breed-detection-service/env/lib/python3.6/site-packages/tensorflow/python/eager/function.py\u001b[0m in \u001b[0;36m_call_flat\u001b[0;34m(self, args, captured_inputs, cancellation_manager)\u001b[0m\n\u001b[1;32m   1744\u001b[0m       \u001b[0;31m# No tape is watching; skip to running the function.\u001b[0m\u001b[0;34m\u001b[0m\u001b[0;34m\u001b[0m\u001b[0;34m\u001b[0m\u001b[0m\n\u001b[1;32m   1745\u001b[0m       return self._build_call_outputs(self._inference_function.call(\n\u001b[0;32m-> 1746\u001b[0;31m           ctx, args, cancellation_manager=cancellation_manager))\n\u001b[0m\u001b[1;32m   1747\u001b[0m     forward_backward = self._select_forward_and_backward_functions(\n\u001b[1;32m   1748\u001b[0m         \u001b[0margs\u001b[0m\u001b[0;34m,\u001b[0m\u001b[0;34m\u001b[0m\u001b[0;34m\u001b[0m\u001b[0m\n",
      "\u001b[0;32m~/projects/python/tf2/dog-breed-detection-service/env/lib/python3.6/site-packages/tensorflow/python/eager/function.py\u001b[0m in \u001b[0;36mcall\u001b[0;34m(self, ctx, args, cancellation_manager)\u001b[0m\n\u001b[1;32m    596\u001b[0m               \u001b[0minputs\u001b[0m\u001b[0;34m=\u001b[0m\u001b[0margs\u001b[0m\u001b[0;34m,\u001b[0m\u001b[0;34m\u001b[0m\u001b[0;34m\u001b[0m\u001b[0m\n\u001b[1;32m    597\u001b[0m               \u001b[0mattrs\u001b[0m\u001b[0;34m=\u001b[0m\u001b[0mattrs\u001b[0m\u001b[0;34m,\u001b[0m\u001b[0;34m\u001b[0m\u001b[0;34m\u001b[0m\u001b[0m\n\u001b[0;32m--> 598\u001b[0;31m               ctx=ctx)\n\u001b[0m\u001b[1;32m    599\u001b[0m         \u001b[0;32melse\u001b[0m\u001b[0;34m:\u001b[0m\u001b[0;34m\u001b[0m\u001b[0;34m\u001b[0m\u001b[0m\n\u001b[1;32m    600\u001b[0m           outputs = execute.execute_with_cancellation(\n",
      "\u001b[0;32m~/projects/python/tf2/dog-breed-detection-service/env/lib/python3.6/site-packages/tensorflow/python/eager/execute.py\u001b[0m in \u001b[0;36mquick_execute\u001b[0;34m(op_name, num_outputs, inputs, attrs, ctx, name)\u001b[0m\n\u001b[1;32m     58\u001b[0m     \u001b[0mctx\u001b[0m\u001b[0;34m.\u001b[0m\u001b[0mensure_initialized\u001b[0m\u001b[0;34m(\u001b[0m\u001b[0;34m)\u001b[0m\u001b[0;34m\u001b[0m\u001b[0;34m\u001b[0m\u001b[0m\n\u001b[1;32m     59\u001b[0m     tensors = pywrap_tfe.TFE_Py_Execute(ctx._handle, device_name, op_name,\n\u001b[0;32m---> 60\u001b[0;31m                                         inputs, attrs, num_outputs)\n\u001b[0m\u001b[1;32m     61\u001b[0m   \u001b[0;32mexcept\u001b[0m \u001b[0mcore\u001b[0m\u001b[0;34m.\u001b[0m\u001b[0m_NotOkStatusException\u001b[0m \u001b[0;32mas\u001b[0m \u001b[0me\u001b[0m\u001b[0;34m:\u001b[0m\u001b[0;34m\u001b[0m\u001b[0;34m\u001b[0m\u001b[0m\n\u001b[1;32m     62\u001b[0m     \u001b[0;32mif\u001b[0m \u001b[0mname\u001b[0m \u001b[0;32mis\u001b[0m \u001b[0;32mnot\u001b[0m \u001b[0;32mNone\u001b[0m\u001b[0;34m:\u001b[0m\u001b[0;34m\u001b[0m\u001b[0;34m\u001b[0m\u001b[0m\n",
      "\u001b[0;31mKeyboardInterrupt\u001b[0m: "
     ]
    }
   ],
   "source": [
    "epochs = 50\n",
    "callbacks = [\n",
    "     keras.callbacks.ModelCheckpoint(\"save_at_{epoch}.h5\", monitor='val_loss', save_best_only=True),\n",
    "]\n",
    "history = model.fit(\n",
    "    train_generator, epochs=epochs, callbacks=callbacks, validation_data=val_generator,\n",
    ")"
   ]
  }
 ]
}